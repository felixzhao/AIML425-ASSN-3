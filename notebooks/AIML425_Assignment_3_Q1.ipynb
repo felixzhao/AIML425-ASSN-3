{
  "nbformat": 4,
  "nbformat_minor": 0,
  "metadata": {
    "colab": {
      "provenance": [],
      "authorship_tag": "ABX9TyMS7YNmf8BEa0epjoKoufc2",
      "include_colab_link": true
    },
    "kernelspec": {
      "name": "python3",
      "display_name": "Python 3"
    },
    "language_info": {
      "name": "python"
    }
  },
  "cells": [
    {
      "cell_type": "markdown",
      "metadata": {
        "id": "view-in-github",
        "colab_type": "text"
      },
      "source": [
        "<a href=\"https://colab.research.google.com/github/felixzhao/AIML425-ASSN-3/blob/main/notebooks/AIML425_Assignment_3_Q1.ipynb\" target=\"_parent\"><img src=\"https://colab.research.google.com/assets/colab-badge.svg\" alt=\"Open In Colab\"/></a>"
      ]
    },
    {
      "cell_type": "code",
      "execution_count": 10,
      "metadata": {
        "id": "Fet4y2_sEIW-"
      },
      "outputs": [],
      "source": [
        "import torch\n",
        "import random\n",
        "import matplotlib.pyplot as plt\n",
        "import numpy as np"
      ]
    },
    {
      "cell_type": "code",
      "source": [
        "# Initialize the grid\n",
        "n = 32  # 32x32 grid to represent a 3.2 km x 3.2 km area (total: 1024 sensors)\n",
        "grid = torch.zeros(n, n)\n",
        "\n",
        "# Randomly select an edge for the tiger to enter\n",
        "edge = random.choice([\"top\", \"bottom\", \"left\", \"right\"])\n",
        "\n",
        "if edge == \"top\":\n",
        "    x, y = 0, random.randint(0, n-1)\n",
        "elif edge == \"bottom\":\n",
        "    x, y = n-1, random.randint(0, n-1)\n",
        "elif edge == \"left\":\n",
        "    x, y = random.randint(0, n-1), 0\n",
        "else:  # edge == \"right\"\n",
        "    x, y = random.randint(0, n-1), n-1\n",
        "\n",
        "# Track of the tiger\n",
        "track = [(x, y)]\n",
        "\n",
        "# Update the sensor grid to mark the tiger's current position\n",
        "grid[x, y] = 1\n",
        "\n",
        "# Simulate the tiger's movement\n",
        "while True:\n",
        "    dx, dy = random.choice([(-1, -1), (-1, 0), (-1, 1),\n",
        "                            (0, -1),           (0, 1),\n",
        "                            (1, -1),  (1, 0),  (1, 1)])\n",
        "    x, y = x + dx, y + dy\n",
        "\n",
        "    # Check for exit conditions\n",
        "    if x < 0 or x >= n or y < 0 or y >= n:\n",
        "        break  # Tiger has left the grid\n",
        "\n",
        "    # If within grid, update the track and grid\n",
        "    track.append((x, y))\n",
        "    grid[x, y] = 1"
      ],
      "metadata": {
        "id": "3XBNLN8CFcvz"
      },
      "execution_count": 18,
      "outputs": []
    },
    {
      "cell_type": "code",
      "source": [
        "track"
      ],
      "metadata": {
        "colab": {
          "base_uri": "https://localhost:8080/"
        },
        "id": "JRDp17SREfED",
        "outputId": "f6d3de9f-1229-4cd2-a293-3e8ecd517625"
      },
      "execution_count": 19,
      "outputs": [
        {
          "output_type": "execute_result",
          "data": {
            "text/plain": [
              "[(0, 9),\n",
              " (1, 9),\n",
              " (2, 9),\n",
              " (3, 8),\n",
              " (4, 7),\n",
              " (5, 8),\n",
              " (5, 7),\n",
              " (4, 8),\n",
              " (4, 7),\n",
              " (5, 6),\n",
              " (4, 5),\n",
              " (4, 4),\n",
              " (5, 4),\n",
              " (6, 3),\n",
              " (7, 3),\n",
              " (6, 3),\n",
              " (5, 2),\n",
              " (6, 1),\n",
              " (5, 0),\n",
              " (4, 1),\n",
              " (3, 0)]"
            ]
          },
          "metadata": {},
          "execution_count": 19
        }
      ]
    },
    {
      "cell_type": "code",
      "source": [
        "# Prepare the data for plotting\n",
        "grid_for_plot = np.zeros((n, n, 3))\n",
        "for i in range(n):\n",
        "    for j in range(n):\n",
        "        if grid[i, j] == 1:\n",
        "            grid_for_plot[i, j] = [1, 0, 0]  # Red for tiger's track\n",
        "        else:\n",
        "            grid_for_plot[i, j] = [0, 0, 1]  # Blue for rest of the grid\n",
        "\n",
        "# Plotting the entire grid\n",
        "plt.imshow(grid_for_plot, origin='upper')\n",
        "plt.title('Tiger Track')\n",
        "plt.xlabel('x-coordinate')\n",
        "plt.ylabel('y-coordinate')\n",
        "plt.show()"
      ],
      "metadata": {
        "colab": {
          "base_uri": "https://localhost:8080/",
          "height": 472
        },
        "id": "auY7WjvVEeJe",
        "outputId": "ea4594df-f086-4d2b-e4ed-e799d105de0b"
      },
      "execution_count": 20,
      "outputs": [
        {
          "output_type": "display_data",
          "data": {
            "text/plain": [
              "<Figure size 640x480 with 1 Axes>"
            ],
            "image/png": "[encoded data removed]"
          },
          "metadata": {}
        }
      ]
    },
    {
      "cell_type": "code",
      "source": [],
      "metadata": {
        "id": "ddH4s-89EMLE"
      },
      "execution_count": null,
      "outputs": []
    }
  ]
}